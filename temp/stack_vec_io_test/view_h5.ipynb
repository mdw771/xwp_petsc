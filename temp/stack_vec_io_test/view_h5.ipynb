{
 "cells": [
  {
   "cell_type": "code",
   "execution_count": 1,
   "metadata": {},
   "outputs": [],
   "source": [
    "import numpy as np\n",
    "import h5py\n",
    "import matplotlib.pyplot as plt"
   ]
  },
  {
   "cell_type": "code",
   "execution_count": 2,
   "metadata": {},
   "outputs": [
    {
     "data": {
      "text/plain": [
       "['Test_Vec']"
      ]
     },
     "execution_count": 2,
     "metadata": {},
     "output_type": "execute_result"
    }
   ],
   "source": [
    "f = h5py.File('vector.h5', 'r')\n",
    "list(f.keys())"
   ]
  },
  {
   "cell_type": "code",
   "execution_count": 3,
   "metadata": {},
   "outputs": [],
   "source": [
    "dset = f['Test_Vec']"
   ]
  },
  {
   "cell_type": "code",
   "execution_count": 4,
   "metadata": {},
   "outputs": [],
   "source": [
    "data = np.zeros(dset.shape)"
   ]
  },
  {
   "cell_type": "code",
   "execution_count": 5,
   "metadata": {},
   "outputs": [],
   "source": [
    "dset.read_direct(data, source_sel=np.s_[:,:], dest_sel=np.s_[:,:])"
   ]
  },
  {
   "cell_type": "code",
   "execution_count": 6,
   "metadata": {},
   "outputs": [
    {
     "data": {
      "text/plain": [
       "array([[[ 0.,  0.],\n",
       "        [ 1.,  0.],\n",
       "        [ 2.,  0.],\n",
       "        [ 3.,  0.],\n",
       "        [ 4.,  0.],\n",
       "        [ 5.,  0.],\n",
       "        [ 6.,  0.],\n",
       "        [ 7.,  0.],\n",
       "        [ 8.,  0.],\n",
       "        [ 9.,  0.],\n",
       "        [10.,  0.],\n",
       "        [11.,  0.],\n",
       "        [12.,  0.],\n",
       "        [13.,  0.],\n",
       "        [14.,  0.],\n",
       "        [15.,  0.],\n",
       "        [16.,  0.],\n",
       "        [17.,  0.],\n",
       "        [18.,  0.],\n",
       "        [19.,  0.]],\n",
       "\n",
       "       [[ 0.,  0.],\n",
       "        [ 1.,  0.],\n",
       "        [ 2.,  0.],\n",
       "        [ 3.,  0.],\n",
       "        [ 4.,  0.],\n",
       "        [ 5.,  0.],\n",
       "        [ 6.,  0.],\n",
       "        [ 7.,  0.],\n",
       "        [ 8.,  0.],\n",
       "        [ 9.,  0.],\n",
       "        [10.,  0.],\n",
       "        [11.,  0.],\n",
       "        [12.,  0.],\n",
       "        [13.,  0.],\n",
       "        [14.,  0.],\n",
       "        [15.,  0.],\n",
       "        [16.,  0.],\n",
       "        [17.,  0.],\n",
       "        [18.,  0.],\n",
       "        [19.,  0.]]])"
      ]
     },
     "execution_count": 6,
     "metadata": {},
     "output_type": "execute_result"
    }
   ],
   "source": [
    "data"
   ]
  },
  {
   "cell_type": "code",
   "execution_count": 7,
   "metadata": {},
   "outputs": [],
   "source": [
    "f.close()"
   ]
  }
 ],
 "metadata": {
  "kernelspec": {
   "display_name": "Python [conda env:intelpy3]",
   "language": "python",
   "name": "conda-env-intelpy3-py"
  },
  "language_info": {
   "codemirror_mode": {
    "name": "ipython",
    "version": 3
   },
   "file_extension": ".py",
   "mimetype": "text/x-python",
   "name": "python",
   "nbconvert_exporter": "python",
   "pygments_lexer": "ipython3",
   "version": "3.6.5"
  }
 },
 "nbformat": 4,
 "nbformat_minor": 2
}
