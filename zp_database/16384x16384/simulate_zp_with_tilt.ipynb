{
 "cells": [
  {
   "cell_type": "markdown",
   "metadata": {},
   "source": [
    "(Note that all units unless otherwise mentioned are SI units.)"
   ]
  },
  {
   "cell_type": "code",
   "execution_count": 1,
   "metadata": {},
   "outputs": [],
   "source": [
    "import numpy as np\n",
    "import numexpr as ne\n",
    "import matplotlib.pyplot as plt\n",
    "import pickle,os\n",
    "from multislice import prop,prop_utils"
   ]
  },
  {
   "cell_type": "markdown",
   "metadata": {},
   "source": [
    "Importing all the required libraries."
   ]
  },
  {
   "cell_type": "code",
   "execution_count": 2,
   "metadata": {},
   "outputs": [],
   "source": [
    "def make_zp_from_rings(n,grid_size):\n",
    "    zp = np.zeros((grid_size,grid_size))\n",
    "    for i in range(n):\n",
    "        if i%2 == 1 :\n",
    "            locs_ = np.load('ring_locs_'+str(i)+'.npy')\n",
    "            locs_ = tuple((locs_[0],locs_[1]))\n",
    "            vals_ = np.load('ring_vals_'+str(i)+'.npy')\n",
    "            zp[locs_] = vals_\n",
    "    return zp"
   ]
  },
  {
   "cell_type": "markdown",
   "metadata": {},
   "source": [
    "*make_zp_from_rings* : make a zone plate from the rings which were created earlier.\n",
    "* *Inputs* : n - number of rings, grid_size \n",
    "* *Outputs* : a numpy array containing the zone plate"
   ]
  },
  {
   "cell_type": "code",
   "execution_count": 3,
   "metadata": {},
   "outputs": [
    {
     "name": "stdout",
     "output_type": "stream",
     "text": [
      "grid_size  :  16384\n",
      "step_xy  :  5.49349935909159e-10\n",
      "energy(in eV)  :  25000\n",
      "wavelength in m  :  4.95936e-11\n",
      "focal_length  :  0.0001\n",
      "zp_coords  :  [-4.5e-06, 4.5e-06, -4.5e-06, 4.5e-06]\n",
      "delta  :  5.1225e-06\n",
      "beta  :  3.2177e-07\n"
     ]
    },
    {
     "data": {
      "image/png": "[encoded data removed]",
      "text/plain": [
       "<Figure size 432x288 with 2 Axes>"
      ]
     },
     "metadata": {
      "needs_background": "light"
     },
     "output_type": "display_data"
    }
   ],
   "source": [
    "os.chdir(os.getcwd()+str('/rings'))\n",
    "parameters = pickle.load(open('parameters.pickle','rb'))\n",
    "for i in parameters : print(i,' : ',parameters[i])\n",
    "zp_coords = parameters['zp_coords']\n",
    "grid_size = parameters['grid_size']\n",
    "zp = make_zp_from_rings(200,int(grid_size))\n",
    "plt.imshow(zp,extent=np.array(zp_coords)*1e6)\n",
    "plt.title('Zone plate pattern')\n",
    "plt.xlabel('axes in um')\n",
    "plt.colorbar()\n",
    "plt.show()"
   ]
  },
  {
   "cell_type": "markdown",
   "metadata": {},
   "source": [
    "Importing zone plate pattern and the parameters associated with it. Plotting the zone plate after creating it from the rings. One needs to save the image with high dpi to clearly see the zone plate. "
   ]
  },
  {
   "cell_type": "code",
   "execution_count": 4,
   "metadata": {},
   "outputs": [],
   "source": [
    "np.save(\"zp.npy\",zp)"
   ]
  },
  {
   "cell_type": "code",
   "execution_count": 5,
   "metadata": {},
   "outputs": [],
   "source": [
    "beta  = parameters['beta']\n",
    "delta = parameters['delta']\n",
    "step_xy = parameters['step_xy']\n",
    "wavel = parameters['wavelength in m']\n",
    "f = parameters['focal_length']\n",
    "L = step_xy*np.shape(zp)[0] \n",
    "m,n = np.shape(zp)"
   ]
  },
  {
   "cell_type": "markdown",
   "metadata": {},
   "source": [
    "*Setting up the parameters for the simulation*<br>\n",
    "* *beta and delta*       : delta and beta at the relevant energy <br>\n",
    "* *step_xy*              : sampling in the xy plane<br>\n",
    "* *wavel*                : wavelength<br>\n",
    "* *f*                    : focal length<br>\n",
    "* *wavefront*            : wavefront that is initialzed with magnitude of 1 and phase of 0<br>\n",
    "* *L*                    : support length<br>\n",
    "* *m,n*                  : dimensions of input zp<zp>\n",
    "* *zp_thickness*         : thickness of zone plate <br>"
   ]
  },
  {
   "cell_type": "code",
   "execution_count": 6,
   "metadata": {},
   "outputs": [
    {
     "name": "stdout",
     "output_type": "stream",
     "text": [
      "Klein-Cook parameter:  498.8472906638039\n"
     ]
    }
   ],
   "source": [
    "zp_thickness = 10e-6\n",
    "finest_feature = 2.4993031854054424e-9 #OZW\n",
    "Q = 2*np.pi*wavel*zp_thickness/(finest_feature**2)\n",
    "print(\"Klein-Cook parameter: \",Q)"
   ]
  },
  {
   "cell_type": "code",
   "execution_count": 7,
   "metadata": {},
   "outputs": [],
   "source": [
    "'''\n",
    "i = 0.5 #Angle in degrees\n",
    "theta = (i)*(np.pi/180)\n",
    "slope = np.tan(theta)\n",
    "x = np.linspace(zp_coords[0],zp_coords[1],n)\n",
    "X,Y = np.meshgrid(x,x)\n",
    "z1 = 2*np.pi*(1/wavel)*slope*X\n",
    "del X,Y,x\n",
    "wave_in = np.multiply(np.ones(np.shape(zp),dtype='complex64'),np.exp(1j*(z1)))\n",
    "del z1\n",
    "'''\n",
    "wave_in = np.ones(np.shape(zp),dtype='complex64')"
   ]
  },
  {
   "cell_type": "markdown",
   "metadata": {},
   "source": [
    "Creating the input wave for the simulation. The input wave has a position(along one axis) dependent phase to simulate the effect of tilting the zone plate (instead of tilting the zone plate itself though tilting the zone plate might be more efficient in the long run)"
   ]
  },
  {
   "cell_type": "code",
   "execution_count": null,
   "metadata": {},
   "outputs": [
    {
     "name": "stdout",
     "output_type": "stream",
     "text": [
      "suggested step size : 6.085167281330596e-08\n",
      "number of steps required for propogation through the zone plate : 164\n",
      "propogator to be used : Transfer Function\n",
      "Fresnel Number : 53577968.65120849\n"
     ]
    },
    {
     "name": "stderr",
     "output_type": "stream",
     "text": [
      "Propogation through xray optical element...:   3%|▎         | 11/328 [02:09<1:01:42, 11.68s/it]"
     ]
    }
   ],
   "source": [
    "number_of_steps =  prop_utils.number_of_steps(step_xy,wavel,zp_thickness)*2\n",
    "ne.set_vml_num_threads(12)\n",
    "wave_exit,L1 = prop_utils.optic_illumination(wave_in,zp,delta,beta,zp_thickness,\n",
    "                                              step_xy,wavel,number_of_steps,0,0)\n",
    "del zp,wave_in"
   ]
  },
  {
   "cell_type": "code",
   "execution_count": null,
   "metadata": {},
   "outputs": [],
   "source": [
    "plt.imshow(np.abs(wave_exit),extent=np.array([-L1/2,L1/2,-L1/2,L1/2])*1e6,cmap='jet')\n",
    "plt.xlabel('axes in um')\n",
    "plt.title('wavefront(magnitude) at zone plate exit')\n",
    "plt.colorbar()\n",
    "plt.show()\n",
    "print(np.max(np.abs(wave_exit)))"
   ]
  },
  {
   "cell_type": "code",
   "execution_count": null,
   "metadata": {},
   "outputs": [],
   "source": [
    "step_z = f\n",
    "p = prop_utils.decide(step_z,step_xy,L,wavel)\n",
    "print('Propagation to focal plane')\n",
    "print('Fresnel Number :',((L**2)/(wavel*step_z)))\n",
    "wave_focus,L2 = p(wave_exit - np.ones(np.shape(wave_exit)),step_xy,L,wavel,step_z)\n",
    "wave_focus = wave_focus +  np.ones(np.shape(wave_exit))"
   ]
  },
  {
   "cell_type": "code",
   "execution_count": null,
   "metadata": {},
   "outputs": [],
   "source": [
    "plt.imshow(np.abs(wave_focus),extent=np.array([-L2/2,L2/2,-L2/2,L2/2])*1e6,cmap='jet')\n",
    "plt.xlabel('axes in um')\n",
    "plt.title('wavefront(magnitude) at focal plane')\n",
    "plt.colorbar()\n",
    "plt.show()"
   ]
  },
  {
   "cell_type": "markdown",
   "metadata": {},
   "source": [
    "The focal spot size is ~50 pixels and one can't see it when the whole wavefront (40k by 40k) is visualized ! \n",
    "Another thing one can notice is the faint outline of a square, this is because the output grid dimensions are different from the input grid dimensions and the length of the side of this square is nothing but the support length of the input plane."
   ]
  },
  {
   "cell_type": "code",
   "execution_count": null,
   "metadata": {},
   "outputs": [],
   "source": [
    "x = np.linspace(-1,1,grid_size)*L2/2\n",
    "plt.plot(x*1e6,abs(wave_focus)[int(grid_size/2),:])\n",
    "plt.xlabel('axes in um')\n",
    "plt.show()\n",
    "print('slice in x-direction along the focal plane')"
   ]
  },
  {
   "cell_type": "markdown",
   "metadata": {},
   "source": [
    "The above plot shows that the location of the focal spot has shifted due to the tilt of the input wave."
   ]
  },
  {
   "cell_type": "code",
   "execution_count": null,
   "metadata": {},
   "outputs": [],
   "source": [
    "focal_spot_size = 100\n",
    "focal_spot,x_,y_,max_val = prop_utils.get_focal_spot(np.abs(wave_focus),grid_size,focal_spot_size)"
   ]
  },
  {
   "cell_type": "code",
   "execution_count": null,
   "metadata": {},
   "outputs": [],
   "source": [
    "plt.imshow(np.log(np.abs(focal_spot)**2+1),extent = np.array([-1,1,-1,1])*(focal_spot_size)*(L2/grid_size)*(1e9),cmap='jet')\n",
    "plt.title('focal spot intensity (log scale)')\n",
    "plt.xlabel('axes in nm')\n",
    "plt.colorbar()\n",
    "plt.show()"
   ]
  },
  {
   "cell_type": "code",
   "execution_count": null,
   "metadata": {},
   "outputs": [],
   "source": [
    "plt.rcParams[\"figure.figsize\"] = (10,8)\n",
    "plt.imshow((np.abs(focal_spot)),extent = np.array([-1,1,-1,1])*(focal_spot_size)*(L2/grid_size)*(1e9),cmap='jet')\n",
    "plt.title('focal spot')\n",
    "plt.xlabel('axes in nm')\n",
    "plt.colorbar()\n",
    "plt.show()"
   ]
  },
  {
   "cell_type": "code",
   "execution_count": null,
   "metadata": {},
   "outputs": [],
   "source": []
  }
 ],
 "metadata": {
  "kernelspec": {
   "display_name": "Python 3",
   "language": "python",
   "name": "python3"
  },
  "language_info": {
   "codemirror_mode": {
    "name": "ipython",
    "version": 3
   },
   "file_extension": ".py",
   "mimetype": "text/x-python",
   "name": "python",
   "nbconvert_exporter": "python",
   "pygments_lexer": "ipython3",
   "version": "3.6.3"
  }
 },
 "nbformat": 4,
 "nbformat_minor": 2
}
