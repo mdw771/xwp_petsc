{
 "cells": [
  {
   "cell_type": "code",
   "execution_count": 1,
   "metadata": {},
   "outputs": [
    {
     "name": "stderr",
     "output_type": "stream",
     "text": [
      "/home/sajid/miniconda3/envs/ipy3/lib/python3.6/site-packages/h5py/__init__.py:36: FutureWarning: Conversion of the second argument of issubdtype from `float` to `np.floating` is deprecated. In future, it will be treated as `np.float64 == np.dtype(float).type`.\n",
      "  from ._conv import register_converters as _register_converters\n"
     ]
    }
   ],
   "source": [
    "import numpy as np\n",
    "import matplotlib.pyplot as plt\n",
    "import h5py\n",
    "import os,pickle\n",
    "from os.path import dirname as up"
   ]
  },
  {
   "cell_type": "code",
   "execution_count": 2,
   "metadata": {},
   "outputs": [],
   "source": [
    "pwd = os.getcwd()\n",
    "os.chdir(\"/raid/home/sajid/xwp_petsc_data/16384x16384/plots/tol_plot/bebop_data\")"
   ]
  },
  {
   "cell_type": "code",
   "execution_count": 3,
   "metadata": {},
   "outputs": [],
   "source": [
    "f = []\n",
    "for i in np.arange(1,101):\n",
    "    f.append(np.load('foc'+str(i)+'.npy'))\n",
    "    \n",
    "strehl = []\n",
    "for i in np.arange(1,101):\n",
    "    strehl.append(np.max(np.abs(f[i-1]))/np.max(np.abs(f[-1])))\n",
    "    \n",
    "tol = []\n",
    "tol_= []\n",
    "for i in np.arange(1,101):\n",
    "    tol.append((10**(-i/10)))\n",
    "    tol_.append(np.round(np.log10(tol[-1]),2))"
   ]
  },
  {
   "cell_type": "code",
   "execution_count": 4,
   "metadata": {},
   "outputs": [
    {
     "data": {
      "image/png": "[encoded data removed]",
      "text/plain": [
       "<Figure size 576x432 with 1 Axes>"
      ]
     },
     "metadata": {
      "needs_background": "light"
     },
     "output_type": "display_data"
    }
   ],
   "source": [
    "plt.rcParams['svg.fonttype'] = 'none'\n",
    "plt.rcParams[\"figure.figsize\"] = (8,6)\n",
    "plt.rcParams['lines.markersize'] = 2.5\n",
    "plt.rcParams['lines.linewidth'] = 1\n",
    "\n",
    "fig,ax = plt.subplots(1,1)\n",
    "\n",
    "ax.plot(strehl,'gx-')\n",
    "#ax.set_ylim(0.99,1.01)\n",
    "locs = np.arange(0,110,10)\n",
    "ax.set_xticks(locs)\n",
    "ax.set_xticklabels(np.round(np.log10(10**(-np.array(locs)/10)),2))\n",
    "ax.set_xlabel('Tolerance in log10',size=12)\n",
    "ax.set_ylabel('Strehl Ratio',size=12)\n",
    "plt.savefig(\"tol_plot.svg\",format='svg',dpi=250)"
   ]
  },
  {
   "cell_type": "code",
   "execution_count": 5,
   "metadata": {},
   "outputs": [],
   "source": [
    "#plt.imshow(np.abs(f[75]),cmap='jet')\n",
    "#plt.colorbar()"
   ]
  },
  {
   "cell_type": "code",
   "execution_count": null,
   "metadata": {},
   "outputs": [],
   "source": []
  }
 ],
 "metadata": {
  "kernelspec": {
   "display_name": "Python 3",
   "language": "python",
   "name": "python3"
  },
  "language_info": {
   "codemirror_mode": {
    "name": "ipython",
    "version": 3
   },
   "file_extension": ".py",
   "mimetype": "text/x-python",
   "name": "python",
   "nbconvert_exporter": "python",
   "pygments_lexer": "ipython3",
   "version": "3.6.3"
  }
 },
 "nbformat": 4,
 "nbformat_minor": 2
}
