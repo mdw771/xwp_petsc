{
 "cells": [
  {
   "cell_type": "code",
   "execution_count": 1,
   "metadata": {},
   "outputs": [
    {
     "name": "stderr",
     "output_type": "stream",
     "text": [
      "/home/sajid/miniconda3/envs/ipy3/lib/python3.6/site-packages/h5py/__init__.py:36: FutureWarning: Conversion of the second argument of issubdtype from `float` to `np.floating` is deprecated. In future, it will be treated as `np.float64 == np.dtype(float).type`.\n",
      "  from ._conv import register_converters as _register_converters\n"
     ]
    }
   ],
   "source": [
    "import numpy as np\n",
    "import matplotlib.pyplot as plt\n",
    "import h5py\n",
    "import urllib"
   ]
  },
  {
   "cell_type": "code",
   "execution_count": 2,
   "metadata": {},
   "outputs": [],
   "source": [
    "ZP = np.load(\"zp.npy\")"
   ]
  },
  {
   "cell_type": "code",
   "execution_count": 3,
   "metadata": {},
   "outputs": [],
   "source": [
    "def get_property(mat,energy):\n",
    "    url = \"http://henke.lbl.gov/cgi-bin/pert_cgi.pl\"\n",
    "    data = {'Element':str(mat), 'Energy':str(energy), 'submit':'Submit Query'}\n",
    "    data = urllib.parse.urlencode(data)\n",
    "    data = data.encode('utf-8')\n",
    "    req = urllib.request.Request(url, data)\n",
    "    resp = urllib.request.urlopen(req)\n",
    "    respDat = resp.read()\n",
    "    response = respDat.split()\n",
    "    d =  b'g/cm^3<li>Delta'\n",
    "    i = response.index(d)\n",
    "    delta = str(response[i+2])[:str(response[i+2]).index('<li>Beta')][2:]\n",
    "    beta = str(response[i+4])[2:-1]\n",
    "    return float(delta),float(beta)"
   ]
  },
  {
   "cell_type": "code",
   "execution_count": 6,
   "metadata": {},
   "outputs": [],
   "source": [
    "energy = 25000                     \n",
    "delta,beta = get_property('Au',energy)\n",
    "wavel = (1239.84/energy)*10**(-9)  \n",
    "k = 2*np.pi/wavel\n",
    "\n",
    "dim_x = 32768\n",
    "dim_y = 32768\n",
    "dim_xy = dim_x*dim_y    "
   ]
  },
  {
   "cell_type": "code",
   "execution_count": 7,
   "metadata": {},
   "outputs": [],
   "source": [
    "ZP = ZP.reshape(dim_xy)\n",
    "ZP_ = np.zeros((dim_xy,2))\n",
    "ZP_[:,0] = np.real(ZP)\n",
    "ZP_[:,1] = np.imag(ZP)"
   ]
  },
  {
   "cell_type": "code",
   "execution_count": 8,
   "metadata": {},
   "outputs": [],
   "source": [
    "f = h5py.File(\"ref_index.h5\", \"w\")\n",
    "dset = f.create_dataset(\"ref_index\", np.shape(ZP_), dtype='f8')\n",
    "dset.attrs.__setitem__(\"complex\",1)"
   ]
  },
  {
   "cell_type": "code",
   "execution_count": 9,
   "metadata": {},
   "outputs": [],
   "source": [
    "dset[:,:] = ZP_"
   ]
  },
  {
   "cell_type": "code",
   "execution_count": 10,
   "metadata": {},
   "outputs": [],
   "source": [
    "f.close()"
   ]
  },
  {
   "cell_type": "code",
   "execution_count": null,
   "metadata": {},
   "outputs": [],
   "source": []
  }
 ],
 "metadata": {
  "kernelspec": {
   "display_name": "Python 3",
   "language": "python",
   "name": "python3"
  },
  "language_info": {
   "codemirror_mode": {
    "name": "ipython",
    "version": 3
   },
   "file_extension": ".py",
   "mimetype": "text/x-python",
   "name": "python",
   "nbconvert_exporter": "python",
   "pygments_lexer": "ipython3",
   "version": "3.6.3"
  }
 },
 "nbformat": 4,
 "nbformat_minor": 2
}
