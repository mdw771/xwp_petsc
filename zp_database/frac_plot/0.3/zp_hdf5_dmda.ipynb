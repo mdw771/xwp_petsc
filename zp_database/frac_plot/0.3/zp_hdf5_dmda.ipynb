{
 "cells": [
  {
   "cell_type": "markdown",
   "metadata": {},
   "source": [
    "Code to convert zone plate pattern in numpy to the time dependent term in parabolic wave equation and store it as hdf5."
   ]
  },
  {
   "cell_type": "code",
   "execution_count": 1,
   "metadata": {},
   "outputs": [],
   "source": [
    "%%capture\n",
    "import numpy as np\n",
    "import matplotlib.pyplot as plt\n",
    "import h5py\n",
    "import pickle,os"
   ]
  },
  {
   "cell_type": "code",
   "execution_count": 2,
   "metadata": {},
   "outputs": [],
   "source": [
    "def make_zp_from_rings(n,grid_size):\n",
    "    zp = np.zeros((grid_size,grid_size))\n",
    "    for i in range(n):\n",
    "        if i%2 == 1 :\n",
    "            locs_ = np.load('ring_locs_'+str(i)+'.npy')\n",
    "            locs_ = tuple((locs_[0],locs_[1]))\n",
    "            vals_ = np.load('ring_vals_'+str(i)+'.npy')\n",
    "            zp[locs_] = vals_\n",
    "    return zp"
   ]
  },
  {
   "cell_type": "markdown",
   "metadata": {},
   "source": [
    "*make_zp_from_rings* : make a zone plate from the rings which were created earlier.\n",
    "* *Inputs* : n - number of rings, grid_size \n",
    "* *Outputs* : a numpy array containing the zone plate"
   ]
  },
  {
   "cell_type": "markdown",
   "metadata": {},
   "source": [
    "Switch to directory containing zone plate array and parameters."
   ]
  },
  {
   "cell_type": "code",
   "execution_count": 3,
   "metadata": {},
   "outputs": [],
   "source": [
    "pwd = os.getcwd()\n",
    "os.chdir(pwd+str('/rings'))"
   ]
  },
  {
   "cell_type": "markdown",
   "metadata": {},
   "source": [
    "Importing zone plate pattern and the parameters associated with it. Plotting the zone plate after creating it from the rings. One needs to save the image with high dpi to clearly see the zone plate. "
   ]
  },
  {
   "cell_type": "code",
   "execution_count": 4,
   "metadata": {},
   "outputs": [],
   "source": [
    "parameters = pickle.load(open('parameters.pickle','rb'))\n",
    "\n",
    "grid_size = parameters['grid_size']\n",
    "energy    = parameters['energy(in eV)']\n",
    "delta     = parameters['delta']\n",
    "beta      = parameters['beta']\n",
    "wavel     = parameters['wavelength in m']\n",
    "dim_x = dim_y = grid_size\n",
    "\n",
    "ZP = make_zp_from_rings(200,int(grid_size))"
   ]
  },
  {
   "cell_type": "markdown",
   "metadata": {},
   "source": [
    "Switch back to current working directory."
   ]
  },
  {
   "cell_type": "code",
   "execution_count": 5,
   "metadata": {},
   "outputs": [],
   "source": [
    "os.chdir(pwd)"
   ]
  },
  {
   "cell_type": "markdown",
   "metadata": {},
   "source": [
    "Evaluate expression to obtain time dependent term in PWE."
   ]
  },
  {
   "cell_type": "code",
   "execution_count": 6,
   "metadata": {},
   "outputs": [],
   "source": [
    "k = 2*np.pi/wavel\n",
    "ZP = ZP*((-1j*k)/2)*((1-delta-1j*beta)**2-1)"
   ]
  },
  {
   "cell_type": "markdown",
   "metadata": {},
   "source": [
    "Flatten dataset and store as 2D array with the first column containin the real part and the second part containing the imaginary part."
   ]
  },
  {
   "cell_type": "code",
   "execution_count": 7,
   "metadata": {},
   "outputs": [],
   "source": [
    "ZP_ = np.zeros((dim_x,dim_y,2))\n",
    "ZP_[:,:,0] = np.real(ZP)\n",
    "ZP_[:,:,1] = np.imag(ZP)"
   ]
  },
  {
   "cell_type": "markdown",
   "metadata": {},
   "source": [
    "Create a new hdf5 file to store the dataset. Set the attribute complex for PETSc to interpret the dataset as a 1D complex array."
   ]
  },
  {
   "cell_type": "code",
   "execution_count": 8,
   "metadata": {},
   "outputs": [],
   "source": [
    "f = h5py.File(\"ref_index_dmda.h5\", \"w\")\n",
    "dset = f.create_dataset(\"ref_index\", (dim_x,dim_y,2), dtype='f8')\n",
    "dset.attrs.__setitem__(\"complex\",1)"
   ]
  },
  {
   "cell_type": "markdown",
   "metadata": {},
   "source": [
    "Transfer the data. Close the hdf5 file after the transfer."
   ]
  },
  {
   "cell_type": "code",
   "execution_count": 9,
   "metadata": {},
   "outputs": [],
   "source": [
    "dset[:,:,:] = ZP_\n",
    "\n",
    "f.close()"
   ]
  }
 ],
 "metadata": {
  "kernelspec": {
   "display_name": "Python 3",
   "language": "python",
   "name": "python3"
  },
  "language_info": {
   "codemirror_mode": {
    "name": "ipython",
    "version": 3
   },
   "file_extension": ".py",
   "mimetype": "text/x-python",
   "name": "python",
   "nbconvert_exporter": "python",
   "pygments_lexer": "ipython3",
   "version": "3.6.3"
  }
 },
 "nbformat": 4,
 "nbformat_minor": 2
}
