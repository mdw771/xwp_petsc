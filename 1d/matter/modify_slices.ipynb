{
 "cells": [
  {
   "cell_type": "code",
   "execution_count": 1,
   "metadata": {},
   "outputs": [],
   "source": [
    "import numpy as np\n",
    "import matplotlib.pyplot as plt\n",
    "import urllib\n",
    "import h5py\n",
    "np.set_printoptions(2)"
   ]
  },
  {
   "cell_type": "code",
   "execution_count": 2,
   "metadata": {},
   "outputs": [],
   "source": [
    "def get_property(mat,energy):\n",
    "    url = \"http://henke.lbl.gov/cgi-bin/pert_cgi.pl\"\n",
    "    data = {'Element':str(mat), 'Energy':str(energy), 'submit':'Submit Query'}\n",
    "    data = urllib.parse.urlencode(data)\n",
    "    data = data.encode('utf-8')\n",
    "    req = urllib.request.Request(url, data)\n",
    "    resp = urllib.request.urlopen(req)\n",
    "    respDat = resp.read()\n",
    "    response = respDat.split()\n",
    "    d =  b'g/cm^3<li>Delta'\n",
    "    i = response.index(d)\n",
    "    delta = str(response[i+2])[:str(response[i+2]).index('<li>Beta')][2:]\n",
    "    beta = str(response[i+4])[2:-1]\n",
    "    return float(delta),float(beta)"
   ]
  },
  {
   "cell_type": "code",
   "execution_count": 3,
   "metadata": {},
   "outputs": [],
   "source": [
    "π = np.pi\n",
    "E = 10000\n",
    "λ = (1239.84/E)*1e-9\n",
    "k = ((2*π)/λ)\n",
    "A = -1j/(2*k)\n",
    "n_au = 1 - get_property('Au',E)[0] - 1j*get_property('Au',E)[1]"
   ]
  },
  {
   "cell_type": "code",
   "execution_count": 4,
   "metadata": {},
   "outputs": [],
   "source": [
    "dim_x = 5000\n",
    "dim_z = 5000\n",
    "z = np.linspace(-2e-6,5e-6,dim_z)\n",
    "x = np.linspace(0,1000e-6,dim_x)\n",
    "Δx = x[1] - x[0]\n",
    "Δz = z[1] - z[0]\n",
    "X,Z = np.meshgrid(x,z)\n",
    "r_z = A * (Δx/(Δz)**2) \n",
    "coords = [x[0]*1e6,x[-1]*1e6,z[0]*1e6,z[-1]*1e6]"
   ]
  },
  {
   "cell_type": "code",
   "execution_count": 5,
   "metadata": {},
   "outputs": [],
   "source": [
    "c = -2e-6\n",
    "m = np.tan(4e-3)\n",
    "loc_mat = np.where(Z<(m*X+c)) #location of material."
   ]
  },
  {
   "cell_type": "code",
   "execution_count": 6,
   "metadata": {},
   "outputs": [],
   "source": [
    "F = np.zeros(np.shape(X),dtype=np.complex128)\n",
    "F[loc_mat] = -1j*(k/2)*(n_au**2-1)"
   ]
  },
  {
   "cell_type": "code",
   "execution_count": 7,
   "metadata": {},
   "outputs": [],
   "source": [
    "for i in range(dim_x):\n",
    "    f = h5py.File('slice_'+str(i)+'.h5')\n",
    "    dset = f['Test_Vec']\n",
    "    x = np.ones((5000,2))\n",
    "    x[:,0] = np.real(F[:,i])\n",
    "    x[:,1] = np.imag(F[:,i])\n",
    "    dset.write_direct(x,np.s_[:,:],np.s_[:,:])\n",
    "    f.close()"
   ]
  },
  {
   "cell_type": "code",
   "execution_count": null,
   "metadata": {},
   "outputs": [],
   "source": []
  }
 ],
 "metadata": {
  "kernelspec": {
   "display_name": "Python [conda env:intelpy3]",
   "language": "python",
   "name": "conda-env-intelpy3-py"
  },
  "language_info": {
   "codemirror_mode": {
    "name": "ipython",
    "version": 3
   },
   "file_extension": ".py",
   "mimetype": "text/x-python",
   "name": "python",
   "nbconvert_exporter": "python",
   "pygments_lexer": "ipython3",
   "version": "3.6.5"
  }
 },
 "nbformat": 4,
 "nbformat_minor": 2
}
